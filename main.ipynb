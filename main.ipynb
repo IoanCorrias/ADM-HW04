{
 "cells": [
  {
   "cell_type": "code",
   "execution_count": 558,
   "outputs": [],
   "source": [
    "import pandas as pd\n",
    "import numpy as np\n",
    "from sklearn.preprocessing import OneHotEncoder\n",
    "import random\n",
    "from tqdm import tqdm\n",
    "from datetime import datetime\n",
    "from sklearn.cluster import KMeans\n",
    "from yellowbrick.cluster import KElbowVisualizer\n",
    "from sklearn.preprocessing import MinMaxScaler\n",
    "from prince import FAMD"
   ],
   "metadata": {
    "collapsed": false
   }
  },
  {
   "cell_type": "markdown",
   "source": [
    "# 1. Finding Similar Costumers"
   ],
   "metadata": {
    "collapsed": false
   }
  },
  {
   "cell_type": "markdown",
   "source": [
    "## 1.1 Set up the data"
   ],
   "metadata": {
    "collapsed": false
   }
  },
  {
   "cell_type": "code",
   "execution_count": 306,
   "outputs": [],
   "source": [
    "# Load data\n",
    "transactions = pd.read_csv('./data/bank_transactions.csv')\n",
    "transactions.dropna(inplace=True)\n",
    "\n",
    "# Formatting\n",
    "transactions['CustomerDOB'] = pd.to_datetime(transactions['CustomerDOB'])\n",
    "\n",
    "# Dropping unrealistic customers\n",
    "transactions.drop(transactions.loc[transactions['CustomerDOB'].apply(lambda x: x.year) > 2022].index, axis=0, inplace=True)\n",
    "transactions.drop(transactions.loc[transactions['CustomerDOB'].apply(lambda x: x.year) < 1900].index, axis=0, inplace=True)\n",
    "\n",
    "# Convert INR to $\n",
    "transactions['CustAccountBalance ($)'] = transactions['CustAccountBalance'].apply(lambda x: float(x) * 0.012)\n",
    "\n",
    "# Calculate age\n",
    "transactions['CustomerAge'] = (( pd.to_datetime('today') - transactions.CustomerDOB ) / np.timedelta64(1, 'Y')).round(0)\n",
    "transactions['CustomerAge'] = transactions['CustomerAge'].astype(int)"
   ],
   "metadata": {
    "collapsed": false
   }
  },
  {
   "cell_type": "markdown",
   "source": [
    "In order to perform the LSH Algorithm I chose to use the customers' gender, age and balance."
   ],
   "metadata": {
    "collapsed": false
   }
  },
  {
   "cell_type": "code",
   "execution_count": 340,
   "outputs": [],
   "source": [
    "trans = transactions[['CustomerID', 'CustGender', 'CustomerAge', 'CustAccountBalance ($)']].groupby(\"CustomerID\").last()"
   ],
   "metadata": {
    "collapsed": false
   }
  },
  {
   "cell_type": "markdown",
   "source": [
    "The last two features needs to be converted into a categorical format to be used."
   ],
   "metadata": {
    "collapsed": false
   }
  },
  {
   "cell_type": "code",
   "execution_count": 341,
   "outputs": [],
   "source": [
    "trans['CustomerAgeCategory'] = pd.cut(trans['CustomerAge'],\n",
    "                                 [min(trans['CustomerAge']) - 1,\n",
    "                                 25, # Limit age for young\n",
    "                                 50, # Limit age for adult\n",
    "                                 max(trans['CustomerAge'])],\n",
    "                                 labels=['young', 'adult', 'senior'])"
   ],
   "metadata": {
    "collapsed": false
   }
  },
  {
   "cell_type": "code",
   "execution_count": 342,
   "outputs": [],
   "source": [
    "trans['CustomerBalanceCategory'] = pd.cut(trans['CustAccountBalance ($)'],\n",
    "                                 [-1,\n",
    "                                 50, # Limit balance for poor\n",
    "                                 500, # Limit balance for good\n",
    "                                 max(trans['CustAccountBalance ($)'])],\n",
    "                                 labels=['poor', 'good', 'wealthy'])"
   ],
   "metadata": {
    "collapsed": false
   }
  },
  {
   "cell_type": "code",
   "execution_count": 343,
   "outputs": [],
   "source": [
    "trans = trans[['CustGender', 'CustomerAgeCategory', 'CustomerBalanceCategory']]"
   ],
   "metadata": {
    "collapsed": false
   }
  },
  {
   "cell_type": "code",
   "execution_count": 344,
   "outputs": [],
   "source": [
    "# Prepare data to be encoded\n",
    "values = [(i.split()) for i in trans.to_string(header=False, index=False, index_names=False).split('\\n')]\n",
    "\n",
    "# One Hot Encoding\n",
    "one_hot = OneHotEncoder(dtype= bool, handle_unknown= \"ignore\", sparse= False)\n",
    "one_hot = one_hot.fit(values)\n",
    "matrix = one_hot.transform(values).T"
   ],
   "metadata": {
    "collapsed": false
   }
  },
  {
   "cell_type": "markdown",
   "source": [
    "## 1.2 Fingerprint hashing"
   ],
   "metadata": {
    "collapsed": false
   }
  },
  {
   "cell_type": "code",
   "execution_count": 415,
   "outputs": [
    {
     "name": "stderr",
     "output_type": "stream",
     "text": [
      "100%|██████████| 10/10 [00:16<00:00,  1.68s/it]\n"
     ]
    }
   ],
   "source": [
    "def my_minhash(mat, n_permutation=10):\n",
    "\n",
    "    random.seed(101)\n",
    "\n",
    "    # Initialize output matrix\n",
    "    signatures = np.zeros((n_permutation , mat.shape[1]))\n",
    "\n",
    "    for i in tqdm(range(n_permutation)):\n",
    "\n",
    "        np.random.shuffle(mat)\n",
    "\n",
    "        # Get for each column the index of the first True value\n",
    "        signatures[i, :] = [np.where(row == 1)[0][0] for row in mat.T]\n",
    "\n",
    "    return signatures"
   ],
   "metadata": {
    "collapsed": false
   }
  },
  {
   "cell_type": "code",
   "execution_count": null,
   "outputs": [],
   "source": [
    "hashed_signatures = my_minhash(matrix)"
   ],
   "metadata": {
    "collapsed": false
   }
  },
  {
   "cell_type": "code",
   "execution_count": 427,
   "outputs": [],
   "source": [
    "def assign_bins(signatures, band_size=3):\n",
    "\n",
    "    # Initialize output\n",
    "    bins = {}\n",
    "\n",
    "    # Loop each band (vertically)\n",
    "    for i in range(signatures.shape[0] // band_size):\n",
    "\n",
    "        # Get band rows\n",
    "        band = signatures[i * band_size: (i+1) * band_size, :]\n",
    "\n",
    "        # Loop each column (horizontally)\n",
    "        for j, b in enumerate(band.T):\n",
    "\n",
    "            # Create key if needed\n",
    "            if str(b) not in bins.keys():\n",
    "                bins[str(b)] = []\n",
    "\n",
    "            # Add column to its bin\n",
    "            bins[str(b)].append(j)\n",
    "\n",
    "    return bins"
   ],
   "metadata": {
    "collapsed": false
   }
  },
  {
   "cell_type": "code",
   "execution_count": 428,
   "outputs": [],
   "source": [
    "bins = assign_bins(hashed_signatures)"
   ],
   "metadata": {
    "collapsed": false
   }
  },
  {
   "cell_type": "markdown",
   "source": [
    "## 1.3 Locality Sensitive Hashing"
   ],
   "metadata": {
    "collapsed": false
   }
  },
  {
   "cell_type": "code",
   "execution_count": null,
   "outputs": [],
   "source": [
    "# Load query data\n",
    "query = pd.read_csv(\"data/query_users.csv\" )\n",
    "\n",
    "# Formatting\n",
    "query['CustomerDOB'] = pd.to_datetime(query['CustomerDOB'])\n",
    "\n",
    "# Convert INR to $\n",
    "query['CustAccountBalance ($)'] = query['CustAccountBalance'].apply(lambda x: float(x) * 0.012)\n",
    "\n",
    "# Calculate age\n",
    "query['CustomerAge'] = (( pd.to_datetime('today') - query.CustomerDOB ) / np.timedelta64(1, 'Y')).round(0)\n",
    "query['CustomerAge'] = query['CustomerAge'].astype(int)\n",
    "\n",
    "q = query[['CustGender', 'CustomerAge', 'CustAccountBalance ($)']]\n",
    "\n",
    "q['CustomerAgeCategory'] = pd.cut(q['CustomerAge'],\n",
    "                                 [min(q['CustomerAge']) - 1,\n",
    "                                 25, # Limit age for young\n",
    "                                 50, # Limit age for adult\n",
    "                                 max(q['CustomerAge'])],\n",
    "                                 labels=['young', 'adult', 'senior'])\n",
    "\n",
    "q['CustomerBalanceCategory'] = pd.cut(q['CustAccountBalance ($)'],\n",
    "                                 [-1,\n",
    "                                 50, # Limit balance for poor\n",
    "                                 500, # Limit balance for good\n",
    "                                 max(q['CustAccountBalance ($)'])],\n",
    "                                 labels=['poor', 'good', 'wealthy'])\n",
    "\n",
    "q = q[['CustGender', 'CustomerAgeCategory', 'CustomerBalanceCategory']]"
   ],
   "metadata": {
    "collapsed": false,
    "pycharm": {
     "is_executing": true
    }
   }
  },
  {
   "cell_type": "code",
   "execution_count": 434,
   "outputs": [],
   "source": [
    "# Prepare query to be encoded\n",
    "q_values = [(i.split()) for i in q.to_string(header=False, index=False, index_names=False).split('\\n')]\n",
    "\n",
    "# One Hot Encoding\n",
    "q_one_hot = OneHotEncoder(dtype= bool, handle_unknown= \"ignore\", sparse= False)\n",
    "q_one_hot = q_one_hot.fit(q_values)\n",
    "q_matrix = q_one_hot.transform(q_values).T"
   ],
   "metadata": {
    "collapsed": false
   }
  },
  {
   "cell_type": "code",
   "execution_count": 435,
   "outputs": [
    {
     "name": "stderr",
     "output_type": "stream",
     "text": [
      "100%|██████████| 10/10 [00:00<?, ?it/s]\n"
     ]
    }
   ],
   "source": [
    "q_signatures = my_minhash(q_matrix)"
   ],
   "metadata": {
    "collapsed": false
   }
  },
  {
   "cell_type": "code",
   "execution_count": 438,
   "outputs": [],
   "source": [
    "q_bins = assign_bins(q_signatures)"
   ],
   "metadata": {
    "collapsed": false
   }
  },
  {
   "cell_type": "markdown",
   "source": [
    "# 2. Grouping customers together!"
   ],
   "metadata": {
    "collapsed": false
   }
  },
  {
   "cell_type": "markdown",
   "source": [
    "## 2.1 Getting your data + feature engineering"
   ],
   "metadata": {
    "collapsed": false
   }
  },
  {
   "cell_type": "code",
   "execution_count": 44,
   "outputs": [],
   "source": [
    "transactions = pd.read_csv('./data/bank_transactions.csv')"
   ],
   "metadata": {
    "collapsed": false
   }
  },
  {
   "cell_type": "code",
   "execution_count": null,
   "outputs": [],
   "source": [
    "transactions.dropna(inplace=True)\n",
    "\n",
    "# Formatting\n",
    "transactions['CustomerDOB'] = pd.to_datetime(transactions['CustomerDOB'])\n",
    "transactions['TransactionDate'] = pd.to_datetime(transactions['TransactionDate'])\n",
    "transactions['TransactionTime'] = transactions['TransactionTime'].apply(lambda x: datetime.strptime(str(x).zfill(6), '%H%M%S'))\n",
    "\n",
    "# Dropping unrealistic customers\n",
    "transactions.drop(transactions.loc[transactions.CustomerDOB.apply(lambda x: x.year) > 2022].index, axis=0, inplace=True)\n",
    "transactions.drop(transactions.loc[transactions.CustomerDOB.apply(lambda x: x.year) < 1900].index, axis=0, inplace=True)\n",
    "\n",
    "# Convert INR to $\n",
    "transactions['CustAccountBalance ($)'] = transactions['CustAccountBalance'].apply(lambda x: float(x) * 0.012)\n",
    "transactions['TransactionAmount ($)'] = transactions['TransactionAmount (INR)'].apply(lambda x: float(x) * 0.012)\n",
    "\n",
    "# Calculate age\n",
    "transactions['CustomerAge'] = (( pd.to_datetime('today') - transactions.CustomerDOB ) / np.timedelta64(1, 'Y')).round(0)\n",
    "transactions['CustomerAge'] = transactions['CustomerAge'].astype(int)"
   ],
   "metadata": {
    "collapsed": false,
    "pycharm": {
     "is_executing": true
    }
   }
  },
  {
   "cell_type": "markdown",
   "source": [
    "After a quick analysis of the dataset it is easy to notice that the for a single customer ID correspond multiple people (there are different genders and date of birth).\n",
    "However, I decided to not implement a new unique id for each person because I think that it would be useful to use aggregate features for more people for marketing purposes (Ex. Promote a new bank subscription for families)."
   ],
   "metadata": {
    "collapsed": false
   }
  },
  {
   "cell_type": "markdown",
   "source": [
    "### Feature Engineering: recommended features"
   ],
   "metadata": {
    "collapsed": false
   }
  },
  {
   "cell_type": "code",
   "execution_count": 74,
   "outputs": [],
   "source": [
    "transactions['IsBalanceAbove100'] = transactions['CustAccountBalance ($)'] > 100\n",
    "transactions['Utilisation'] = transactions['CustAccountBalance ($)'] - transactions['TransactionAmount ($)']"
   ],
   "metadata": {
    "collapsed": false
   }
  },
  {
   "cell_type": "code",
   "execution_count": 75,
   "outputs": [],
   "source": [
    "transactionsAgg = transactions.groupby('CustomerID').agg(\n",
    "    TransNumber = pd.NamedAgg(column='TransactionDate', aggfunc='count'),\n",
    "    TransNumberBalanceAbove100 = pd.NamedAgg(column='IsBalanceAbove100', aggfunc='sum'),\n",
    "    AverageTransAmount = pd.NamedAgg(column='TransactionAmount ($)', aggfunc='mean'),\n",
    "    AverageBalance = pd.NamedAgg(column='CustAccountBalance ($)', aggfunc='mean'),\n",
    "    AverageUtilisation = pd.NamedAgg(column='Utilisation', aggfunc='mean')\n",
    ").reset_index()\n",
    "\n",
    "GenderMode = transactions.groupby('CustomerID')['CustGender'].agg(pd.Series.mode).reset_index(name='GenderMode')\n",
    "LocationMode = transactions.groupby('CustomerID')['CustLocation'].agg(pd.Series.mode).reset_index(name='LocationMode')\n",
    "\n",
    "customersRecommendedFeats = transactionsAgg.merge(GenderMode.merge(LocationMode))"
   ],
   "metadata": {
    "collapsed": false
   }
  },
  {
   "cell_type": "code",
   "execution_count": 76,
   "outputs": [],
   "source": [
    "# Replace multiple modes results\n",
    "customersRecommendedFeats['GenderMode'] = customersRecommendedFeats['GenderMode'].apply(lambda x: x if isinstance(x, str) else 'Both')"
   ],
   "metadata": {
    "collapsed": false
   }
  },
  {
   "cell_type": "markdown",
   "source": [
    "### Feature Engineering: additional features"
   ],
   "metadata": {
    "collapsed": false
   }
  },
  {
   "cell_type": "code",
   "execution_count": 77,
   "outputs": [],
   "source": [
    "# Stats based on people for each account\n",
    "transactionsAggPeople = transactions.groupby('CustomerID').agg(\n",
    "    peopleNumber = pd.NamedAgg(column='CustomerDOB', aggfunc='count'),\n",
    "    ageAverage = pd.NamedAgg(column='CustomerAge', aggfunc='mean'),\n",
    "    ageMax = pd.NamedAgg(column='CustomerAge', aggfunc='max'),\n",
    "    ageMin = pd.NamedAgg(column='CustomerAge', aggfunc='min'),\n",
    "    LocationNumber = pd.NamedAgg(column='CustLocation', aggfunc='count') # Does customers perform transaction in the same location?\n",
    "\n",
    ").reset_index()\n",
    "\n",
    "customersRecommendedFeats = customersRecommendedFeats.merge(transactionsAggPeople)"
   ],
   "metadata": {
    "collapsed": false
   }
  },
  {
   "cell_type": "code",
   "execution_count": 78,
   "outputs": [],
   "source": [
    "# Filters by average balance\n",
    "customersRecommendedFeats['AvgBalanceLower100'] = transactionsAgg['AverageBalance'] < 100 # extremely poor balance\n",
    "customersRecommendedFeats['AvgBalanceBetween100_1000'] = transactionsAgg['AverageBalance'].apply(lambda x: 100 <= x < 1000) # poor balance\n",
    "customersRecommendedFeats['AvgBalanceBetween1K_10K'] = transactionsAgg['AverageBalance'].apply(lambda x: 1000 <= x < 10000) # medium balance\n",
    "customersRecommendedFeats['AvgBalanceOver10K'] = transactionsAgg['AverageBalance'].apply(lambda x: 10000 <= x < 100000) # good balance\n",
    "customersRecommendedFeats['AvgBalanceOver100K'] = transactionsAgg['AverageBalance'] >= 100000 # rich balance"
   ],
   "metadata": {
    "collapsed": false
   }
  },
  {
   "cell_type": "code",
   "execution_count": 138,
   "outputs": [],
   "source": [
    "# How much the customer spends compared to his average balance?\n",
    "customersRecommendedFeats['AvgTransAmountOverBalance'] = customersRecommendedFeats['AverageTransAmount'] / customersRecommendedFeats['AverageBalance']\n",
    "\n",
    "customersRecommendedFeats['AvgTransAmountOverBalance'].replace([np.inf, np.nan], 0, inplace=True)"
   ],
   "metadata": {
    "collapsed": false
   }
  },
  {
   "cell_type": "code",
   "execution_count": 98,
   "outputs": [],
   "source": [
    "# Flags based on customer average utilisation (difference between the balance and the transaction amount)\n",
    "customersRecommendedFeats['AvgUtilisationAboveGreat'] = transactionsAgg['AverageUtilisation'] > 100\n",
    "customersRecommendedFeats['AvgUtilisationGood'] = transactionsAgg['AverageUtilisation'] >= 10\n",
    "customersRecommendedFeats['AvgUtilisationRisky'] = transactionsAgg['AverageUtilisation'] < 10\n",
    "customersRecommendedFeats['AvgUtilisationNegative'] = transactionsAgg['AverageUtilisation'] < 0"
   ],
   "metadata": {
    "collapsed": false
   }
  },
  {
   "cell_type": "code",
   "execution_count": 81,
   "outputs": [],
   "source": [
    "# Transaction time analysis: does the customer perform transaction on specific hours of the day?\n",
    "transactions['TransTimeBetween0_6'] = transactions['TransactionTime'].apply(lambda x: 0 <= x.hour < 6)      # Night hours\n",
    "transactions['TransTimeBetween6_12'] = transactions['TransactionTime'].apply(lambda x: 6 <= x.hour < 12)    # Morning hours\n",
    "transactions['TransTimeBetween12_18'] = transactions['TransactionTime'].apply(lambda x: 12 <= x.hour < 18)  # Afternoon hours\n",
    "transactions['TransTimeBetween18_24'] = transactions['TransactionTime'].apply(lambda x: 18 <= x.hour < 24)  # Evening hours\n",
    "\n",
    "transactionsAggTime = transactions.groupby('CustomerID').agg(\n",
    "    TransNumber = pd.NamedAgg(column='TransactionDate', aggfunc='count'),\n",
    "    AvgTransTimeBetween0_6 = pd.NamedAgg(column='TransTimeBetween0_6', aggfunc='mean'),\n",
    "    AvgTransTimeBetween6_12 = pd.NamedAgg(column='TransTimeBetween6_12', aggfunc='mean'),\n",
    "    AvgTransTimeBetween12_18 = pd.NamedAgg(column='TransTimeBetween12_18', aggfunc='mean'),\n",
    "    AvgTransTimeBetween18_24 = pd.NamedAgg(column='TransTimeBetween18_24', aggfunc='mean')).reset_index()\n",
    "\n",
    "transactionsAggTime['%TransTimeBetween0_6'] = transactionsAggTime['AvgTransTimeBetween0_6'] / transactionsAggTime['TransNumber']\n",
    "transactionsAggTime['%TransTimeBetween6_12'] = transactionsAggTime['AvgTransTimeBetween6_12'] / transactionsAggTime['TransNumber']\n",
    "transactionsAggTime['%TransTimeBetween12_18'] = transactionsAggTime['AvgTransTimeBetween12_18'] / transactionsAggTime['TransNumber']\n",
    "transactionsAggTime['%TransTimeBetween18_24'] = transactionsAggTime['AvgTransTimeBetween18_24'] / transactionsAggTime['TransNumber']\n",
    "\n",
    "customersRecommendedFeats = customersRecommendedFeats.merge(transactionsAggTime[['CustomerID',\n",
    "                                                                                 '%TransTimeBetween0_6',\n",
    "                                                                                 '%TransTimeBetween6_12',\n",
    "                                                                                 '%TransTimeBetween12_18',\n",
    "                                                                                 '%TransTimeBetween18_24' ]])"
   ],
   "metadata": {
    "collapsed": false
   }
  },
  {
   "cell_type": "code",
   "execution_count": 84,
   "outputs": [],
   "source": [
    "# Get business days\n",
    "business_days = pd.bdate_range(start=min(transactions.TransactionDate), end=max(transactions.TransactionDate))\n",
    "\n",
    "# Add flag on main dataset\n",
    "transactions['TransDateIsBusinessDay'] = transactions['TransactionDate'].apply(lambda x: \"Business\" if x in business_days else \"No Business\")\n",
    "\n",
    "# Check if customers perform transaction mostly on business days\n",
    "TransDayTypeMode = transactions.groupby('CustomerID')['TransDateIsBusinessDay'].agg(pd.Series.mode).reset_index(name='TransDayTypeMode')\n",
    "TransDayTypeMode['TransDayTypeMode'] = TransDayTypeMode['TransDayTypeMode'].apply(lambda x: x if isinstance(x, str) else 'Both')\n",
    "\n",
    "customersRecommendedFeats = customersRecommendedFeats.merge(TransDayTypeMode)"
   ],
   "metadata": {
    "collapsed": false
   }
  },
  {
   "cell_type": "code",
   "execution_count": 442,
   "outputs": [
    {
     "data": {
      "text/plain": "       CustomerID  TransNumber  TransNumberBalanceAbove100  \\\n0        C1010011            2                           2   \n1        C1010012            1                           1   \n2        C1010014            2                           2   \n3        C1010018            1                           0   \n4        C1010028            1                           1   \n...           ...          ...                         ...   \n784384   C9099836            1                           1   \n784385   C9099877            1                           1   \n784386   C9099919            1                           0   \n784387   C9099941            1                           1   \n784388   C9099956            1                           0   \n\n        AverageTransAmount  AverageBalance  AverageUtilisation GenderMode  \\\n0                   30.636       916.08762           885.45162       Both   \n1                   17.988       290.45388           272.46588          M   \n2                    8.730      1201.35540          1192.62540       Both   \n3                    0.360         5.95416             5.59416          F   \n4                    6.684      3561.94044          3555.25644          F   \n...                    ...             ...                 ...        ...   \n784384               8.292      1596.80676          1588.51476          M   \n784385               2.664      1152.76152          1150.09752          M   \n784386               1.512        66.71700            65.20500          M   \n784387               0.600       423.55104           422.95104          M   \n784388              10.260        83.62716            73.36716          M   \n\n              LocationMode  peopleNumber  ageAverage  ...  \\\n0       [NEW DELHI, NOIDA]             2        35.0  ...   \n1                   MUMBAI             1        28.0  ...   \n2                   MUMBAI             2        34.5  ...   \n3                CHAMPARAN             1        33.0  ...   \n4                    DELHI             1        34.0  ...   \n...                    ...           ...         ...  ...   \n784384            BHIWANDI             1        32.0  ...   \n784385           BANGALORE             1        26.0  ...   \n784386              GUNTUR             1        29.0  ...   \n784387             CHENNAI             1        28.0  ...   \n784388           MUSSOORIE             1        40.0  ...   \n\n        AvgTransAmountOverBalance  AvgUtilisationAboveGreat  \\\n0                        0.033442                      True   \n1                        0.061931                      True   \n2                        0.007267                      True   \n3                        0.060462                     False   \n4                        0.001877                      True   \n...                           ...                       ...   \n784384                   0.005193                      True   \n784385                   0.002311                      True   \n784386                   0.022663                     False   \n784387                   0.001417                      True   \n784388                   0.122687                     False   \n\n        AvgUtilisationGood  AvgUtilisationRisky  AvgUtilisationNegative  \\\n0                     True                False                   False   \n1                     True                False                   False   \n2                     True                False                   False   \n3                    False                 True                   False   \n4                     True                False                   False   \n...                    ...                  ...                     ...   \n784384                True                False                   False   \n784385                True                False                   False   \n784386                True                False                   False   \n784387                True                False                   False   \n784388                True                False                   False   \n\n        %TransTimeBetween0_6  %TransTimeBetween6_12  %TransTimeBetween12_18  \\\n0                       0.25                    0.0                    0.25   \n1                       0.00                    0.0                    0.00   \n2                       0.00                    0.0                    0.25   \n3                       0.00                    0.0                    1.00   \n4                       0.00                    1.0                    0.00   \n...                      ...                    ...                     ...   \n784384                  1.00                    0.0                    0.00   \n784385                  0.00                    0.0                    1.00   \n784386                  0.00                    0.0                    1.00   \n784387                  0.00                    0.0                    0.00   \n784388                  0.00                    0.0                    0.00   \n\n        %TransTimeBetween18_24  TransDayTypeMode  \n0                         0.00          Business  \n1                         1.00       No Business  \n2                         0.25          Business  \n3                         0.00          Business  \n4                         0.00          Business  \n...                        ...               ...  \n784384                    0.00          Business  \n784385                    0.00          Business  \n784386                    0.00          Business  \n784387                    1.00       No Business  \n784388                    1.00       No Business  \n\n[784389 rows x 28 columns]",
      "text/html": "<div>\n<style scoped>\n    .dataframe tbody tr th:only-of-type {\n        vertical-align: middle;\n    }\n\n    .dataframe tbody tr th {\n        vertical-align: top;\n    }\n\n    .dataframe thead th {\n        text-align: right;\n    }\n</style>\n<table border=\"1\" class=\"dataframe\">\n  <thead>\n    <tr style=\"text-align: right;\">\n      <th></th>\n      <th>CustomerID</th>\n      <th>TransNumber</th>\n      <th>TransNumberBalanceAbove100</th>\n      <th>AverageTransAmount</th>\n      <th>AverageBalance</th>\n      <th>AverageUtilisation</th>\n      <th>GenderMode</th>\n      <th>LocationMode</th>\n      <th>peopleNumber</th>\n      <th>ageAverage</th>\n      <th>...</th>\n      <th>AvgTransAmountOverBalance</th>\n      <th>AvgUtilisationAboveGreat</th>\n      <th>AvgUtilisationGood</th>\n      <th>AvgUtilisationRisky</th>\n      <th>AvgUtilisationNegative</th>\n      <th>%TransTimeBetween0_6</th>\n      <th>%TransTimeBetween6_12</th>\n      <th>%TransTimeBetween12_18</th>\n      <th>%TransTimeBetween18_24</th>\n      <th>TransDayTypeMode</th>\n    </tr>\n  </thead>\n  <tbody>\n    <tr>\n      <th>0</th>\n      <td>C1010011</td>\n      <td>2</td>\n      <td>2</td>\n      <td>30.636</td>\n      <td>916.08762</td>\n      <td>885.45162</td>\n      <td>Both</td>\n      <td>[NEW DELHI, NOIDA]</td>\n      <td>2</td>\n      <td>35.0</td>\n      <td>...</td>\n      <td>0.033442</td>\n      <td>True</td>\n      <td>True</td>\n      <td>False</td>\n      <td>False</td>\n      <td>0.25</td>\n      <td>0.0</td>\n      <td>0.25</td>\n      <td>0.00</td>\n      <td>Business</td>\n    </tr>\n    <tr>\n      <th>1</th>\n      <td>C1010012</td>\n      <td>1</td>\n      <td>1</td>\n      <td>17.988</td>\n      <td>290.45388</td>\n      <td>272.46588</td>\n      <td>M</td>\n      <td>MUMBAI</td>\n      <td>1</td>\n      <td>28.0</td>\n      <td>...</td>\n      <td>0.061931</td>\n      <td>True</td>\n      <td>True</td>\n      <td>False</td>\n      <td>False</td>\n      <td>0.00</td>\n      <td>0.0</td>\n      <td>0.00</td>\n      <td>1.00</td>\n      <td>No Business</td>\n    </tr>\n    <tr>\n      <th>2</th>\n      <td>C1010014</td>\n      <td>2</td>\n      <td>2</td>\n      <td>8.730</td>\n      <td>1201.35540</td>\n      <td>1192.62540</td>\n      <td>Both</td>\n      <td>MUMBAI</td>\n      <td>2</td>\n      <td>34.5</td>\n      <td>...</td>\n      <td>0.007267</td>\n      <td>True</td>\n      <td>True</td>\n      <td>False</td>\n      <td>False</td>\n      <td>0.00</td>\n      <td>0.0</td>\n      <td>0.25</td>\n      <td>0.25</td>\n      <td>Business</td>\n    </tr>\n    <tr>\n      <th>3</th>\n      <td>C1010018</td>\n      <td>1</td>\n      <td>0</td>\n      <td>0.360</td>\n      <td>5.95416</td>\n      <td>5.59416</td>\n      <td>F</td>\n      <td>CHAMPARAN</td>\n      <td>1</td>\n      <td>33.0</td>\n      <td>...</td>\n      <td>0.060462</td>\n      <td>False</td>\n      <td>False</td>\n      <td>True</td>\n      <td>False</td>\n      <td>0.00</td>\n      <td>0.0</td>\n      <td>1.00</td>\n      <td>0.00</td>\n      <td>Business</td>\n    </tr>\n    <tr>\n      <th>4</th>\n      <td>C1010028</td>\n      <td>1</td>\n      <td>1</td>\n      <td>6.684</td>\n      <td>3561.94044</td>\n      <td>3555.25644</td>\n      <td>F</td>\n      <td>DELHI</td>\n      <td>1</td>\n      <td>34.0</td>\n      <td>...</td>\n      <td>0.001877</td>\n      <td>True</td>\n      <td>True</td>\n      <td>False</td>\n      <td>False</td>\n      <td>0.00</td>\n      <td>1.0</td>\n      <td>0.00</td>\n      <td>0.00</td>\n      <td>Business</td>\n    </tr>\n    <tr>\n      <th>...</th>\n      <td>...</td>\n      <td>...</td>\n      <td>...</td>\n      <td>...</td>\n      <td>...</td>\n      <td>...</td>\n      <td>...</td>\n      <td>...</td>\n      <td>...</td>\n      <td>...</td>\n      <td>...</td>\n      <td>...</td>\n      <td>...</td>\n      <td>...</td>\n      <td>...</td>\n      <td>...</td>\n      <td>...</td>\n      <td>...</td>\n      <td>...</td>\n      <td>...</td>\n      <td>...</td>\n    </tr>\n    <tr>\n      <th>784384</th>\n      <td>C9099836</td>\n      <td>1</td>\n      <td>1</td>\n      <td>8.292</td>\n      <td>1596.80676</td>\n      <td>1588.51476</td>\n      <td>M</td>\n      <td>BHIWANDI</td>\n      <td>1</td>\n      <td>32.0</td>\n      <td>...</td>\n      <td>0.005193</td>\n      <td>True</td>\n      <td>True</td>\n      <td>False</td>\n      <td>False</td>\n      <td>1.00</td>\n      <td>0.0</td>\n      <td>0.00</td>\n      <td>0.00</td>\n      <td>Business</td>\n    </tr>\n    <tr>\n      <th>784385</th>\n      <td>C9099877</td>\n      <td>1</td>\n      <td>1</td>\n      <td>2.664</td>\n      <td>1152.76152</td>\n      <td>1150.09752</td>\n      <td>M</td>\n      <td>BANGALORE</td>\n      <td>1</td>\n      <td>26.0</td>\n      <td>...</td>\n      <td>0.002311</td>\n      <td>True</td>\n      <td>True</td>\n      <td>False</td>\n      <td>False</td>\n      <td>0.00</td>\n      <td>0.0</td>\n      <td>1.00</td>\n      <td>0.00</td>\n      <td>Business</td>\n    </tr>\n    <tr>\n      <th>784386</th>\n      <td>C9099919</td>\n      <td>1</td>\n      <td>0</td>\n      <td>1.512</td>\n      <td>66.71700</td>\n      <td>65.20500</td>\n      <td>M</td>\n      <td>GUNTUR</td>\n      <td>1</td>\n      <td>29.0</td>\n      <td>...</td>\n      <td>0.022663</td>\n      <td>False</td>\n      <td>True</td>\n      <td>False</td>\n      <td>False</td>\n      <td>0.00</td>\n      <td>0.0</td>\n      <td>1.00</td>\n      <td>0.00</td>\n      <td>Business</td>\n    </tr>\n    <tr>\n      <th>784387</th>\n      <td>C9099941</td>\n      <td>1</td>\n      <td>1</td>\n      <td>0.600</td>\n      <td>423.55104</td>\n      <td>422.95104</td>\n      <td>M</td>\n      <td>CHENNAI</td>\n      <td>1</td>\n      <td>28.0</td>\n      <td>...</td>\n      <td>0.001417</td>\n      <td>True</td>\n      <td>True</td>\n      <td>False</td>\n      <td>False</td>\n      <td>0.00</td>\n      <td>0.0</td>\n      <td>0.00</td>\n      <td>1.00</td>\n      <td>No Business</td>\n    </tr>\n    <tr>\n      <th>784388</th>\n      <td>C9099956</td>\n      <td>1</td>\n      <td>0</td>\n      <td>10.260</td>\n      <td>83.62716</td>\n      <td>73.36716</td>\n      <td>M</td>\n      <td>MUSSOORIE</td>\n      <td>1</td>\n      <td>40.0</td>\n      <td>...</td>\n      <td>0.122687</td>\n      <td>False</td>\n      <td>True</td>\n      <td>False</td>\n      <td>False</td>\n      <td>0.00</td>\n      <td>0.0</td>\n      <td>0.00</td>\n      <td>1.00</td>\n      <td>No Business</td>\n    </tr>\n  </tbody>\n</table>\n<p>784389 rows × 28 columns</p>\n</div>"
     },
     "execution_count": 442,
     "metadata": {},
     "output_type": "execute_result"
    }
   ],
   "source": [
    "customersRecommendedFeats"
   ],
   "metadata": {
    "collapsed": false
   }
  },
  {
   "cell_type": "markdown",
   "source": [
    "## 2.2 Choose your features (variables)!"
   ],
   "metadata": {
    "collapsed": false
   }
  },
  {
   "cell_type": "code",
   "execution_count": 466,
   "outputs": [],
   "source": [
    "# Divide columns into numeric and categorical features\n",
    "\n",
    "numeric_feats = customersRecommendedFeats[['TransNumberBalanceAbove100', 'LocationNumber', 'AverageTransAmount',\n",
    "                                           'AverageBalance', 'AverageUtilisation', 'ageAverage', 'ageMax', 'ageMin']]\n",
    "\n",
    "categorical_feats = customersRecommendedFeats[['AvgBalanceLower100', 'AvgBalanceBetween100_1000', 'AvgBalanceBetween1K_10K',\n",
    "                                               'AvgBalanceOver10K', 'AvgBalanceOver100K', 'AvgUtilisationAboveGreat',\n",
    "                                               'AvgUtilisationGood', 'AvgUtilisationRisky', 'AvgUtilisationNegative',\n",
    "                                               'TransDayTypeMode', 'GenderMode', 'TransNumber', 'peopleNumber']].astype('str')"
   ],
   "metadata": {
    "collapsed": false
   }
  },
  {
   "cell_type": "code",
   "execution_count": 467,
   "outputs": [],
   "source": [
    "# Normalize numerical data\n",
    "scaler = MinMaxScaler()\n",
    "norm_feats = pd.DataFrame(scaler.fit_transform(numeric_feats), columns=numeric_feats.columns)"
   ],
   "metadata": {
    "collapsed": false
   }
  },
  {
   "cell_type": "markdown",
   "source": [
    "Since there are both categorical and numeric features I chose to use FAMD (Factor Analysis of Mixed Data) to extract the needed components for clustering."
   ],
   "metadata": {
    "collapsed": false
   }
  },
  {
   "cell_type": "code",
   "execution_count": 468,
   "outputs": [],
   "source": [
    "# Initialize\n",
    "famd = FAMD(n_components = 11, n_iter = 3, random_state = 101)\n",
    "\n",
    "final_data = pd.concat([norm_feats, categorical_feats], axis = 1)\n",
    "\n",
    "famd.fit(final_data)\n",
    "# famd.plot_row_coordinates(final_data, figsize=(9, 6), color_labels=[i for i in final_data['TransNumber']])"
   ],
   "metadata": {
    "collapsed": false
   }
  },
  {
   "cell_type": "code",
   "execution_count": 470,
   "outputs": [
    {
     "data": {
      "text/plain": "array([0.19316926, 0.3414538 , 0.45667159, 0.56043393, 0.61479256,\n       0.66612501, 0.70940269, 0.75249672, 0.79558826, 0.83697079,\n       0.87284676])"
     },
     "execution_count": 470,
     "metadata": {},
     "output_type": "execute_result"
    }
   ],
   "source": [
    "# Check cumulative explained variance\n",
    "np.cumsum(famd.explained_inertia_)"
   ],
   "metadata": {
    "collapsed": false
   }
  },
  {
   "cell_type": "markdown",
   "source": [
    "The number of components needed to explain at lest 70% of the variance is 7."
   ],
   "metadata": {
    "collapsed": false
   }
  },
  {
   "cell_type": "code",
   "execution_count": 555,
   "outputs": [],
   "source": [
    "# Initialize\n",
    "famd = FAMD(n_components = 7, n_iter = 3, random_state = 101)\n",
    "\n",
    "final_data = pd.concat([norm_feats, categorical_feats], axis = 1)\n",
    "\n",
    "famd.fit(final_data)\n",
    "famd_features = famd.transform(final_data)"
   ],
   "metadata": {
    "collapsed": false
   }
  },
  {
   "cell_type": "code",
   "execution_count": 559,
   "outputs": [
    {
     "data": {
      "text/plain": "<Figure size 800x550 with 2 Axes>",
      "image/png": "[encoded data removed]"
     },
     "metadata": {},
     "output_type": "display_data"
    },
    {
     "data": {
      "text/plain": "<AxesSubplot: title={'center': 'Distortion Score Elbow for KMeans Clustering'}, xlabel='k', ylabel='distortion score'>"
     },
     "execution_count": 559,
     "metadata": {},
     "output_type": "execute_result"
    }
   ],
   "source": [
    "# Using the elbow method to find out the optimal number of cluster u\n",
    "model = KMeans()\n",
    "visualizer = KElbowVisualizer(model, k = (1, 10))\n",
    "\n",
    "visualizer.fit(famd_features)\n",
    "visualizer.show()"
   ],
   "metadata": {
    "collapsed": false
   }
  },
  {
   "cell_type": "markdown",
   "source": [
    "# Algorithmic Question"
   ],
   "metadata": {
    "collapsed": false
   }
  },
  {
   "cell_type": "code",
   "execution_count": 205,
   "outputs": [],
   "source": [
    "def enough_guards(n, m, g, entrances):\n",
    "\n",
    "    # Use a dictionary to map entrances with guards\n",
    "    assignments = {e: 0 for e in range(1, n + 1)}\n",
    "\n",
    "    for i, e in enumerate(entrances):\n",
    "\n",
    "        # Check if the entrance has not a guard\n",
    "        if assignments[e] == 0:\n",
    "\n",
    "            # Check for an available guard to be assigned\n",
    "            if g > 0:\n",
    "                assignments[e] = 1\n",
    "                g -= 1\n",
    "            else:\n",
    "                # If we run out of guard we exit with a negative response\n",
    "                return \"NO\"\n",
    "\n",
    "        else:\n",
    "            left_entrances = entrances[i+1:]\n",
    "\n",
    "            # Check if the entrance can close\n",
    "            if e not in left_entrances:\n",
    "                del assignments[e]    # Close entrance\n",
    "                g += 1                # Free the guard\n",
    "\n",
    "    # If you got at the end of the loop we can return a positive response\n",
    "    return \"YES\""
   ],
   "metadata": {
    "collapsed": false
   }
  },
  {
   "cell_type": "code",
   "execution_count": 206,
   "outputs": [
    {
     "data": {
      "text/plain": "'YES'"
     },
     "execution_count": 206,
     "metadata": {},
     "output_type": "execute_result"
    }
   ],
   "source": [
    "# First test\n",
    "enough_guards(n=4, m=5, g=1, entrances=[1, 1, 3, 3, 3])"
   ],
   "metadata": {
    "collapsed": false
   }
  },
  {
   "cell_type": "code",
   "execution_count": 207,
   "outputs": [
    {
     "data": {
      "text/plain": "'NO'"
     },
     "execution_count": 207,
     "metadata": {},
     "output_type": "execute_result"
    }
   ],
   "source": [
    "# Second test\n",
    "enough_guards(n=2, m=5, g=1, entrances=[ 1 , 2 , 1 , 2, 2 ])"
   ],
   "metadata": {
    "collapsed": false
   }
  }
 ],
 "metadata": {
  "kernelspec": {
   "display_name": "Python 3",
   "language": "python",
   "name": "python3"
  },
  "language_info": {
   "codemirror_mode": {
    "name": "ipython",
    "version": 2
   },
   "file_extension": ".py",
   "mimetype": "text/x-python",
   "name": "python",
   "nbconvert_exporter": "python",
   "pygments_lexer": "ipython2",
   "version": "2.7.6"
  }
 },
 "nbformat": 4,
 "nbformat_minor": 0
}
